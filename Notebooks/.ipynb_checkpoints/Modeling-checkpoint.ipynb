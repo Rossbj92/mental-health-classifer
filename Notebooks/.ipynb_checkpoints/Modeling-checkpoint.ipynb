{
 "cells": [
  {
   "cell_type": "markdown",
   "metadata": {
    "Collapsed": "false"
   },
   "source": [
    "Similar to the ```Cleaning``` notebook, test data samples are used to display functionality. Markdown cells from original output are also included.\n",
    "\n",
    "4 different sets of features were modeled separately:\n",
    "1. Doc2Vec\n",
    "2. Word2Vec averages\n",
    "3. Tf-idf\n",
    "4. Word2Vec idf-weighted averages"
   ]
  },
  {
   "cell_type": "code",
   "execution_count": 10,
   "metadata": {
    "Collapsed": "false"
   },
   "outputs": [],
   "source": [
    "# Used while building util file\n",
    "# %load_ext autoreload\n",
    "# %autoreload 2"
   ]
  },
  {
   "cell_type": "code",
   "execution_count": 3,
   "metadata": {
    "Collapsed": "false"
   },
   "outputs": [],
   "source": [
    "#Adding path to util \n",
    "import sys\n",
    "sys.path[-1] = f'{sys.path[0]}'.replace('Notebooks', 'src')\n",
    "\n",
    "#/src/cleaning/modeling_util.py\n",
    "import modeling.modeling_util as model\n",
    "#/src/visualizations/viz.py\n",
    "from visualizations.viz import confusion_heatmap, model_comparison\n",
    "\n",
    "#Pandas preferences\n",
    "model.pd.set_option('display.max_rows', 500)\n",
    "model.pd.set_option('display.max_columns', 500)\n",
    "model.pd.options.mode.chained_assignment = None"
   ]
  },
  {
   "cell_type": "markdown",
   "metadata": {
    "Collapsed": "false"
   },
   "source": [
    "---"
   ]
  },
  {
   "cell_type": "code",
   "execution_count": 15,
   "metadata": {
    "Collapsed": "false"
   },
   "outputs": [],
   "source": [
    "tfidf_train, tfidf_test, \\\n",
    "dbow_vecs_train, dbow_vecs_test, \\\n",
    "mowe_train, mowe_test, \\\n",
    "mowe_idf_train, mowe_idf_test, \\\n",
    "y_train, y_test = model.load_data()"
   ]
  },
  {
   "cell_type": "markdown",
   "metadata": {
    "Collapsed": "false"
   },
   "source": [
    "---"
   ]
  },
  {
   "cell_type": "markdown",
   "metadata": {
    "Collapsed": "false"
   },
   "source": [
    "Need to encode the y-labels numerically."
   ]
  },
  {
   "cell_type": "code",
   "execution_count": 16,
   "metadata": {
    "Collapsed": "false"
   },
   "outputs": [],
   "source": [
    "y_train, y_test = model.label_encode(y_train, y_test)"
   ]
  },
  {
   "cell_type": "markdown",
   "metadata": {
    "Collapsed": "false"
   },
   "source": [
    "To get a baseline for each set of features, I'm going to first do a simple train/validation split and evaluate a few models for each. Ideally, I'd like to do a 5-fold cross validation for each, but at this early a stage in the modeling, the computational resources for that outweigh the initial purpose."
   ]
  },
  {
   "cell_type": "code",
   "execution_count": 65,
   "metadata": {
    "Collapsed": "false"
   },
   "outputs": [],
   "source": [
    "models = {'Logistic Regression':model.LogisticRegression(multi_class = 'multinomial', max_iter = 1000),\n",
    "          'KNN': model.KNeighborsClassifier(),\n",
    "          'SVM': model.LinearSVC(max_iter = 5000),\n",
    "          'Random Forest': model.RandomForestClassifier()}\n",
    "training_features = {'PV-DBOW': dbow_vecs_train,\n",
    "                     'TFIDF':tfidf_train, \n",
    "                     'MOWE': mowe_train, \n",
    "                     'IDF-MOWE': mowe_idf_train}\n",
    "initial_evaluations = model.train_val_df(training_features, y_train, models)"
   ]
  },
  {
   "cell_type": "markdown",
   "metadata": {
    "Collapsed": "false"
   },
   "source": [
    "```\n",
    "6.25% complete\n",
    "12.50% complete\n",
    "18.75% complete\n",
    "25.00% complete\n",
    "31.25% complete\n",
    "37.50% complete\n",
    "43.75% complete\n",
    "50.00% complete\n",
    "56.25% complete\n",
    "62.50% complete\n",
    "68.75% complete\n",
    "75.00% complete\n",
    "81.25% complete\n",
    "87.50% complete\n",
    "93.75% complete\n",
    "100.00% complete\n",
    "```"
   ]
  },
  {
   "cell_type": "markdown",
   "metadata": {
    "Collapsed": "false"
   },
   "source": [
    "<div>\n",
    "<style scoped>\n",
    "    .dataframe tbody tr th:only-of-type {\n",
    "        vertical-align: middle;\n",
    "    }\n",
    "\n",
    "    .dataframe tbody tr th {\n",
    "        vertical-align: top;\n",
    "    }\n",
    "\n",
    "    .dataframe thead th {\n",
    "        text-align: right;\n",
    "    }\n",
    "</style>\n",
    "<table border=\"1\" class=\"dataframe\">\n",
    "  <thead>\n",
    "    <tr style=\"text-align: right;\">\n",
    "      <th></th>\n",
    "      <th>Data</th>\n",
    "      <th>Model</th>\n",
    "      <th>F1</th>\n",
    "    </tr>\n",
    "  </thead>\n",
    "  <tbody>\n",
    "    <tr>\n",
    "      <th>5</th>\n",
    "      <td>TFIDF</td>\n",
    "      <td>Logistic Regression</td>\n",
    "      <td>0.842</td>\n",
    "    </tr>\n",
    "    <tr>\n",
    "      <th>7</th>\n",
    "      <td>TFIDF</td>\n",
    "      <td>SVM</td>\n",
    "      <td>0.836</td>\n",
    "    </tr>\n",
    "    <tr>\n",
    "      <th>1</th>\n",
    "      <td>PV-DBOW</td>\n",
    "      <td>Logistic Regression</td>\n",
    "      <td>0.831</td>\n",
    "    </tr>\n",
    "    <tr>\n",
    "      <th>3</th>\n",
    "      <td>PV-DBOW</td>\n",
    "      <td>SVM</td>\n",
    "      <td>0.830</td>\n",
    "    </tr>\n",
    "    <tr>\n",
    "      <th>8</th>\n",
    "      <td>TFIDF</td>\n",
    "      <td>Random Forest</td>\n",
    "      <td>0.809</td>\n",
    "    </tr>\n",
    "    <tr>\n",
    "      <th>9</th>\n",
    "      <td>MOWE</td>\n",
    "      <td>Logistic Regression</td>\n",
    "      <td>0.808</td>\n",
    "    </tr>\n",
    "    <tr>\n",
    "      <th>11</th>\n",
    "      <td>MOWE</td>\n",
    "      <td>SVM</td>\n",
    "      <td>0.808</td>\n",
    "    </tr>\n",
    "    <tr>\n",
    "      <th>13</th>\n",
    "      <td>IDF-MOWE</td>\n",
    "      <td>Logistic Regression</td>\n",
    "      <td>0.773</td>\n",
    "    </tr>\n",
    "    <tr>\n",
    "      <th>15</th>\n",
    "      <td>IDF-MOWE</td>\n",
    "      <td>SVM</td>\n",
    "      <td>0.773</td>\n",
    "    </tr>\n",
    "    <tr>\n",
    "      <th>12</th>\n",
    "      <td>MOWE</td>\n",
    "      <td>Random Forest</td>\n",
    "      <td>0.739</td>\n",
    "    </tr>\n",
    "    <tr>\n",
    "      <th>4</th>\n",
    "      <td>PV-DBOW</td>\n",
    "      <td>Random Forest</td>\n",
    "      <td>0.692</td>\n",
    "    </tr>\n",
    "    <tr>\n",
    "      <th>16</th>\n",
    "      <td>IDF-MOWE</td>\n",
    "      <td>Random Forest</td>\n",
    "      <td>0.692</td>\n",
    "    </tr>\n",
    "    <tr>\n",
    "      <th>10</th>\n",
    "      <td>MOWE</td>\n",
    "      <td>KNN</td>\n",
    "      <td>0.673</td>\n",
    "    </tr>\n",
    "    <tr>\n",
    "      <th>14</th>\n",
    "      <td>IDF-MOWE</td>\n",
    "      <td>KNN</td>\n",
    "      <td>0.626</td>\n",
    "    </tr>\n",
    "    <tr>\n",
    "      <th>6</th>\n",
    "      <td>TFIDF</td>\n",
    "      <td>KNN</td>\n",
    "      <td>0.613</td>\n",
    "    </tr>\n",
    "    <tr>\n",
    "      <th>2</th>\n",
    "      <td>PV-DBOW</td>\n",
    "      <td>KNN</td>\n",
    "      <td>0.559</td>\n",
    "    </tr>\n",
    "  </tbody>\n",
    "</table>\n",
    "</div>\n"
   ]
  },
  {
   "cell_type": "markdown",
   "metadata": {
    "Collapsed": "false"
   },
   "source": [
    "<br>\n",
    "Tf-idf and the document vectors are the 2 best performing sets of features, with logistic regression leading the pack in models. SVM is a close second, and I'd like to see how that continues to performs. This initial evaluation only included a single training/validation split, so such a close difference arguably necessitates further inspection. Increasing the folds will continue to add evidence towards generalizability, and it will be interesting to see if these results remain constant under more intense scrutiny."
   ]
  },
  {
   "cell_type": "code",
   "execution_count": 23,
   "metadata": {
    "Collapsed": "false"
   },
   "outputs": [],
   "source": [
    "models = {'Logistic Regression':model.LogisticRegression(multi_class = 'multinomial', max_iter = 1000),\n",
    "          'SVM': model.LinearSVC(max_iter = 5000)}\n",
    "\n",
    "training_features = {'PV-DBOW': dbow_vecs_train,\n",
    "                     'TFIDF':tfidf_train}\n",
    "\n",
    "cv_eval = model.kfold_df(training_features, y_train, models)"
   ]
  },
  {
   "cell_type": "markdown",
   "metadata": {
    "Collapsed": "false"
   },
   "source": [
    "```\n",
    "25.00% complete\n",
    "50.00% complete\n",
    "75.00% complete\n",
    "100.00% complete\n",
    "```"
   ]
  },
  {
   "cell_type": "markdown",
   "metadata": {
    "Collapsed": "false"
   },
   "source": [
    "\n",
    "<div>\n",
    "<style scoped>\n",
    "    .dataframe tbody tr th:only-of-type {\n",
    "        vertical-align: middle;\n",
    "    }\n",
    "\n",
    "    .dataframe tbody tr th {\n",
    "        vertical-align: top;\n",
    "    }\n",
    "\n",
    "    .dataframe thead th {\n",
    "        text-align: right;\n",
    "    }\n",
    "</style>\n",
    "<table border=\"1\" class=\"dataframe\">\n",
    "  <thead>\n",
    "    <tr style=\"text-align: right;\">\n",
    "      <th></th>\n",
    "      <th>Data</th>\n",
    "      <th>Model</th>\n",
    "      <th>F1</th>\n",
    "    </tr>\n",
    "  </thead>\n",
    "  <tbody>\n",
    "    <tr>\n",
    "      <th>3</th>\n",
    "      <td>TFIDF</td>\n",
    "      <td>Logistic Regression</td>\n",
    "      <td>0.843</td>\n",
    "    </tr>\n",
    "    <tr>\n",
    "      <th>4</th>\n",
    "      <td>TFIDF</td>\n",
    "      <td>SVM</td>\n",
    "      <td>0.838</td>\n",
    "    </tr>\n",
    "    <tr>\n",
    "      <th>1</th>\n",
    "      <td>PV-DBOW</td>\n",
    "      <td>Logistic Regression</td>\n",
    "      <td>0.832</td>\n",
    "    </tr>\n",
    "    <tr>\n",
    "      <th>2</th>\n",
    "      <td>PV-DBOW</td>\n",
    "      <td>SVM</td>\n",
    "      <td>0.831</td>\n",
    "    </tr>\n",
    "  </tbody>\n",
    "</table>\n",
    "</div>\n"
   ]
  },
  {
   "cell_type": "markdown",
   "metadata": {
    "Collapsed": "false"
   },
   "source": [
    "  The logistic models are more parsimonious and take substantially less time to train. From an engineering perspective, this would be far more preferable in production -- fortunately, we are not sacrificing any performance here either. The tf-idf set as a whole outperforms the PV-DBOW as well, albeit marginally. \n",
    "<br>\n",
    "<br>\n",
    "I decided to move forward with tf-idf over PV-DBOW. To be honest, I was biased towards the document vectors; they are much more interesting to me theoretically, and the idea of custom embeddings excites me. Alas, tf-idf had a slight edge in performance and a massive edge in a production setting. The end-game application I imagine for this model would be real-time evaluation of mental health status. In a domain like telehealth -- and dealing with certain psychopathologies -- minutes matter, and this particular model is the quickest of all current choices. Additionally, the document vectors would require far more maintenance and training than tf-idf. \n",
    "\n",
    "Now, all that is left is some hyperparameter tuning to try and squeeze out any last performance boosts."
   ]
  },
  {
   "cell_type": "code",
   "execution_count": 27,
   "metadata": {
    "Collapsed": "false"
   },
   "outputs": [],
   "source": [
    "param_grid = [{'penalty': ['l1', 'l2'], \n",
    "               'C': [0.001, 0.01, 0.1, 1, 10, 100, 1000]}\n",
    "             ]\n",
    "tfidf_logreg_grid = model.GridSearchCV(model.LogisticRegression(max_iter = 1000), \n",
    "                                 param_grid, \n",
    "                                 scoring = 'f1_macro', \n",
    "                                 n_jobs = -1)\n",
    "\n",
    "tfidf_logreg_grid.fit(tfidf_train, y_train)\n",
    "final_model = tfidf_logreg_grid.best_estimator_\n",
    "print('Best F1 Score: {:.3f}'.format(tfidf_logreg_grid.best_score_))"
   ]
  },
  {
   "cell_type": "markdown",
   "metadata": {
    "Collapsed": "false"
   },
   "source": [
    "```\n",
    "Best F1 Score: 0.843\n",
    "```"
   ]
  },
  {
   "cell_type": "code",
   "execution_count": 28,
   "metadata": {
    "Collapsed": "false"
   },
   "outputs": [],
   "source": [
    "final_model = tfidf_logreg_grid.best_estimator_"
   ]
  },
  {
   "cell_type": "markdown",
   "metadata": {
    "Collapsed": "false"
   },
   "source": [
    "<br>\n",
    "<br>\n",
    "Onto the final predictions!"
   ]
  },
  {
   "cell_type": "code",
   "execution_count": 31,
   "metadata": {
    "Collapsed": "false"
   },
   "outputs": [],
   "source": [
    "preds = final_model.predict(tfidf_test)\n",
    "print('Test Set F1 Score: {:.3f}'.format(model.f1_score(y_test, preds, average = 'macro')))"
   ]
  },
  {
   "cell_type": "markdown",
   "metadata": {
    "Collapsed": "false"
   },
   "source": [
    "```\n",
    "Test Set F1 Score: 0.848\n",
    "```"
   ]
  },
  {
   "cell_type": "markdown",
   "metadata": {
    "Collapsed": "false"
   },
   "source": [
    "---"
   ]
  },
  {
   "cell_type": "markdown",
   "metadata": {
    "Collapsed": "false"
   },
   "source": [
    "Overall, I am quite pleased with the results. Mental health is something that I'm quite passionate about, and it's the domain that sprung my interest in data science. I really believe that machine learning (especially NLP) has spectacular implications for mental healthcare, and I based this project in one such application I imagined. \n",
    "\n",
    "The model performed nicely given the difficult nature of the problem. Especially with depression and anxiety, it can be hard to differentiate between disorders, as well as carve out the decision boundary between non-clinical and clinical thresholds. While I cannot assuredly say that every individual in the clinical subreddits do indeed meet clinical criteria, these are promising results that I would be eager to see on validated populations!"
   ]
  },
  {
   "cell_type": "markdown",
   "metadata": {
    "Collapsed": "false"
   },
   "source": [
    "# Visualizations"
   ]
  },
  {
   "cell_type": "code",
   "execution_count": 63,
   "metadata": {
    "Collapsed": "false"
   },
   "outputs": [],
   "source": [
    "# model_comparison(initial_evaluations)"
   ]
  },
  {
   "cell_type": "markdown",
   "metadata": {
    "Collapsed": "false",
    "jupyter": {
     "source_hidden": true
    }
   },
   "source": [
    "![initial evals](../reports/figures/initial_model_evals.png)"
   ]
  },
  {
   "cell_type": "code",
   "execution_count": 61,
   "metadata": {
    "Collapsed": "false"
   },
   "outputs": [],
   "source": [
    "# confusion_heatmap(y_test, preds, ['ADHD', 'Anxiety', 'Depression', 'Non-clinical'])"
   ]
  },
  {
   "cell_type": "markdown",
   "metadata": {
    "Collapsed": "false",
    "jupyter": {
     "source_hidden": true
    }
   },
   "source": [
    "![confusion matrix](../reports/figures/new_heatmap.png)"
   ]
  }
 ],
 "metadata": {
  "kernelspec": {
   "display_name": "Python 3",
   "language": "python",
   "name": "python3"
  },
  "language_info": {
   "codemirror_mode": {
    "name": "ipython",
    "version": 3
   },
   "file_extension": ".py",
   "mimetype": "text/x-python",
   "name": "python",
   "nbconvert_exporter": "python",
   "pygments_lexer": "ipython3",
   "version": "3.7.6"
  }
 },
 "nbformat": 4,
 "nbformat_minor": 4
}
