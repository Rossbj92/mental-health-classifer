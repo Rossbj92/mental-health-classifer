{
 "cells": [
  {
   "cell_type": "code",
   "execution_count": null,
   "metadata": {
    "Collapsed": "false"
   },
   "outputs": [],
   "source": [
    "#Used while building util file\n",
    "# %load_ext autoreload\n",
    "# %autoreload 2"
   ]
  },
  {
   "cell_type": "code",
   "execution_count": 7,
   "metadata": {
    "Collapsed": "false"
   },
   "outputs": [],
   "source": [
    "import sys\n",
    "sys.path[-1] = f'{sys.path[0]}'.replace('Notebooks', 'src')\n",
    "import scraping.scraping_util as scrape"
   ]
  },
  {
   "cell_type": "markdown",
   "metadata": {
    "Collapsed": "false"
   },
   "source": [
    "Below, 2 posts will be pulled from each subreddit in the list. The default is 35,000, so specifying posts is important :)\n",
    "\n",
    "**At the moment, the scraper will not work unless you modify the ```scraping_util.py``` file to add your own Reddit API key.**"
   ]
  },
  {
   "cell_type": "code",
   "execution_count": 2,
   "metadata": {
    "Collapsed": "false"
   },
   "outputs": [],
   "source": [
    "data = scrape.scraper(['anxiety', 'depression', 'adhd', 'casualconversation'], posts = 2)\n",
    "data.drop_duplicates(subset = ['title', 'text'], inplace = True)\n",
    "data.reset_index(drop = True, inplace = True)\n",
    "data"
   ]
  }
 ],
 "metadata": {
  "kernelspec": {
   "display_name": "Python 3",
   "language": "python",
   "name": "python3"
  },
  "language_info": {
   "codemirror_mode": {
    "name": "ipython",
    "version": 3
   },
   "file_extension": ".py",
   "mimetype": "text/x-python",
   "name": "python",
   "nbconvert_exporter": "python",
   "pygments_lexer": "ipython3",
   "version": "3.7.6"
  }
 },
 "nbformat": 4,
 "nbformat_minor": 4
}
